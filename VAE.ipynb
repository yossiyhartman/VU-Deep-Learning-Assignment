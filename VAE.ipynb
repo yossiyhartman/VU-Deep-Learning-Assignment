{
  "cells": [
    {
      "cell_type": "markdown",
      "metadata": {
        "id": "aJ_pmgxvGur9"
      },
      "source": [
        "# Assignment 4a - Variational Auto-Encoders\n",
        "## Deep Learning Course - Vrije Universiteit Amsterdam, 2022"
      ]
    },
    {
      "cell_type": "markdown",
      "metadata": {
        "id": "mEneMITS2agU"
      },
      "source": [
        "#### Instructions on how to use this notebook:\n",
        "\n",
        "This notebook is hosted on Google Colab. To be able to work on it, you have to create your own copy. Go to *File* and select *Save a copy in Drive*.\n",
        "\n",
        "You can also avoid using Colab entirely, and download the notebook to run it on your own machine. If you choose this, go to *File* and select *Download .ipynb*.\n",
        "\n",
        "The advantage of using Colab is that you can use a GPU. You can complete this assignment with a CPU, but it will take a bit longer. Furthermore, we encourage you to train using the GPU not only for faster training, but also to get experience with this setting. This includes moving models and tensors to the GPU and back. This experience is very valuable because for various models and large datasets (like large CNNs for ImageNet, or Transformer models trained on Wikipedia), training on GPU is the only feasible way.\n",
        "\n",
        "The default Colab runtime does not have a GPU. To change this, go to *Runtime - Change runtime type*, and select *GPU* as the hardware accelerator. The GPU that you get changes according to what resources are available at the time, and its memory can go from a 5GB, to around 18GB if you are lucky. If you are curious, you can run the following in a code cell to check:\n",
        "\n",
        "```sh\n",
        "!nvidia-smi\n",
        "```\n",
        "\n",
        "Note that despite the name, Google Colab does  not support collaborative work without issues. When two or more people edit the notebook concurrently, only one version will be saved. You can choose to do group programming with one person sharing the screen with the others, or make multiple copies of the notebook to work concurrently.\n",
        "\n",
        "**Submission:** Upload your notebook in .ipynb format to Canvas. The code and answers to the questions in the notebook are sufficient, no separate report is expected."
      ]
    },
    {
      "cell_type": "code",
      "execution_count": null,
      "metadata": {
        "colab": {
          "base_uri": "https://localhost:8080/"
        },
        "id": "lBgoJIpdLI2Y",
        "outputId": "fb5276e7-96b2-4f6f-b90a-b40462bd34f3"
      },
      "outputs": [
        {
          "output_type": "stream",
          "name": "stdout",
          "text": [
            "/bin/bash: line 1: nvidia-smi: command not found\n"
          ]
        }
      ],
      "source": [
        "!nvidia-smi"
      ]
    },
    {
      "cell_type": "markdown",
      "metadata": {
        "id": "tsdc7fDp40rQ"
      },
      "source": [
        "## Introduction\n",
        "\n",
        "In this assignment, we are going to implement a Variational Auto-Encoder (VAE). A VAE is a likelihood-based deep generative model that consists of a stochastic encoder (a variational posterior over latent variables), a stochastic decoder, and a marginal distribution over latent variables (a.k.a. a prior). The model was originally proposed in two concurrent papers:\n",
        "- [Kingma, D. P., & Welling, M. (2013). Auto-encoding variational bayes. arXiv preprint arXiv:1312.6114.](https://arxiv.org/abs/1312.6114)\n",
        "- [Rezende, Danilo Jimenez, Shakir Mohamed, and Daan Wierstra. \"Stochastic backpropagation and approximate inference in deep generative models.\" International conference on machine learning. PMLR, 2014.](https://proceedings.mlr.press/v32/rezende14.html)\n",
        "\n",
        "You can read more about VAEs in Chapter 4 of the following book:\n",
        "- [Tomczak, J.M., \"Deep Generative Modeling\", Springer, 2022](https://link.springer.com/book/10.1007/978-3-030-93158-2)\n",
        "\n",
        "In particular, the goals of this assignment are the following:\n",
        "\n",
        "- Understand how VAEs are formulated\n",
        "- Implement components of VAEs using PyTorch\n",
        "- Train and evaluate a model for image data"
      ]
    },
    {
      "cell_type": "markdown",
      "metadata": {
        "id": "RvsuVNczG6pP"
      },
      "source": [
        "### Theory behind VAEs\n",
        "\n",
        "VAEs are latent variable models trained with variational inference. In general, the latent variable models define the following generative process:\n",
        "\\begin{align}\n",
        "1.\\ & \\mathbf{z} \\sim p_{\\lambda}(\\mathbf{z}) \\\\\n",
        "2.\\ & \\mathbf{x} \\sim p_{\\theta}(\\mathbf{x}|\\mathbf{z})\n",
        "\\end{align}\n",
        "\n",
        "In plain words, we assume that for observable data $\\mathbf{x}$, there are some latent (hidden) factors $\\mathbf{z}$. Then, the training objective is log-likelihood function of the following form:\n",
        "$$\n",
        "\\log p_{\\vartheta}(\\mathbf{x})=\\log \\int p_\\theta(\\mathbf{x} \\mid \\mathbf{z}) p_\\lambda(\\mathbf{z}) \\mathrm{d} \\mathbf{z} .\n",
        "$$\n",
        "\n",
        "The problem here is the intractability of the integral if the dependencies between random variables $\\mathbf{x}$ and $\\mathbf{z}$ are non-linear and/or the distributions are non-Gaussian.\n",
        "\n",
        "By introducing variational posteriors $q_{\\phi}(\\mathbf{z}|\\mathbf{x})$, we get the following lower bound (the Evidence Lower Bound, ELBO):\n",
        "$$\n",
        "\\log p_{\\vartheta}(\\mathbf{x}) \\geq \\mathbb{E}_{\\mathbf{z} \\sim q_\\phi(\\mathbf{z} \\mid \\mathbf{x})}\\left[\\log p_\\theta(\\mathbf{x} \\mid \\mathbf{z})\\right]-\\mathrm{KL}\\left(q_\\phi(\\mathbf{z} \\mid \\mathbf{x}) \\| p_\\lambda(\\mathbf{z})\\right) .\n",
        "$$\n",
        "\n",
        "Note that we want to *maximize* this objective, therefore, in the code you are going to have to implement NELBO (negative ELBO) as a loss function (i.e., a minimization task)."
      ]
    },
    {
      "cell_type": "markdown",
      "metadata": {
        "id": "suzhlbWqxtD9"
      },
      "source": [
        "## IMPORTS"
      ]
    },
    {
      "cell_type": "code",
      "execution_count": null,
      "metadata": {
        "id": "BjxkigYLxpB7"
      },
      "outputs": [],
      "source": [
        "# DO NOT REMOVE!\n",
        "import os\n",
        "\n",
        "import numpy as np\n",
        "import matplotlib.pyplot as plt\n",
        "\n",
        "import torch\n",
        "\n",
        "from torch.utils.data import Dataset, DataLoader\n",
        "import torch.nn as nn\n",
        "import torch.nn.functional as F\n",
        "\n",
        "import torchvision\n",
        "from torchvision.datasets import MNIST\n",
        "\n",
        "from typing import List\n",
        "from torch.distributions.multivariate_normal import MultivariateNormal\n",
        "import math"
      ]
    },
    {
      "cell_type": "code",
      "execution_count": null,
      "metadata": {
        "colab": {
          "base_uri": "https://localhost:8080/"
        },
        "id": "Cm23hRm6CqGh",
        "outputId": "48cf726f-be71-45a1-fccf-9690c977f670"
      },
      "outputs": [
        {
          "output_type": "stream",
          "name": "stdout",
          "text": [
            "The available device is cpu\n"
          ]
        }
      ],
      "source": [
        "# Check if GPU is available and determine the device\n",
        "if torch.cuda.is_available():\n",
        "  device = 'cuda'\n",
        "else:\n",
        "  device = 'cpu'\n",
        "\n",
        "print(f'The available device is {device}')"
      ]
    },
    {
      "cell_type": "code",
      "execution_count": null,
      "metadata": {
        "colab": {
          "base_uri": "https://localhost:8080/"
        },
        "id": "81CxONpmMulC",
        "outputId": "1b7f0cdc-7481-4523-c6d2-53f6ab5dfefa"
      },
      "outputs": [
        {
          "output_type": "stream",
          "name": "stdout",
          "text": [
            "Drive already mounted at /content/gdrive; to attempt to forcibly remount, call drive.mount(\"/content/gdrive\", force_remount=True).\n"
          ]
        }
      ],
      "source": [
        "# mount drive: WE NEED IT FOR SAVING IMAGES!\n",
        "from google.colab import drive\n",
        "drive.mount('/content/gdrive')"
      ]
    },
    {
      "cell_type": "code",
      "execution_count": null,
      "metadata": {
        "id": "OoPb92zNM4UY"
      },
      "outputs": [],
      "source": [
        "# PLEASE CHANGE IT TO YOUR OWN GOOGLE DRIVE!\n",
        "images_dir = '/content/gdrive/My Drive/Colab Notebooks/Results/'\n",
        "# images_dir = './results/'"
      ]
    },
    {
      "cell_type": "markdown",
      "metadata": {
        "id": "I3zs31tOyCmq"
      },
      "source": [
        "## Auxiliary functions"
      ]
    },
    {
      "cell_type": "markdown",
      "metadata": {
        "id": "DF0agzL7tDHK"
      },
      "source": [
        "Let us define some useful log-distributions:"
      ]
    },
    {
      "cell_type": "code",
      "execution_count": null,
      "metadata": {
        "id": "LIBNVRNJtHSd"
      },
      "outputs": [],
      "source": [
        "# DO NOT REMOVE\n",
        "PI = torch.from_numpy(np.asarray(np.pi))\n",
        "EPS = 1.e-5\n",
        "\n",
        "\n",
        "def log_categorical(x, p, num_classes=256, reduction=None, dim=None):\n",
        "    x_one_hot = F.one_hot(x.long(), num_classes=num_classes)\n",
        "    log_p = x_one_hot * torch.log(torch.clamp(p, EPS, 1. - EPS))\n",
        "    if reduction == 'avg':\n",
        "        return torch.mean(log_p, dim)\n",
        "    elif reduction == 'sum':\n",
        "        return torch.sum(log_p, dim)\n",
        "    else:\n",
        "        return log_p\n",
        "\n",
        "\n",
        "def log_bernoulli(x, p, reduction=None, dim=None):\n",
        "    pp = torch.clamp(p, EPS, 1. - EPS)\n",
        "    log_p = x * torch.log(pp) + (1. - x) * torch.log(1. - pp)\n",
        "    if reduction == 'avg':\n",
        "        return torch.mean(log_p, dim)\n",
        "    elif reduction == 'sum':\n",
        "        return torch.sum(log_p, dim)\n",
        "    else:\n",
        "        return log_p\n",
        "\n",
        "\n",
        "def log_normal_diag(x, mu, log_var, reduction=None, dim=None):\n",
        "    D = x.shape[1]\n",
        "    log_p = -0.5 * D * torch.log(2. * PI) - 0.5 * log_var - 0.5 * torch.exp(-log_var) * (x - mu)**2.\n",
        "    if reduction == 'avg':\n",
        "        return torch.mean(log_p, dim)\n",
        "    elif reduction == 'sum':\n",
        "        return torch.sum(log_p, dim)\n",
        "    else:\n",
        "        return log_p\n",
        "\n",
        "\n",
        "def log_standard_normal(x, reduction=None, dim=None):\n",
        "    D = x.shape[1]\n",
        "    log_p = -0.5 * D * torch.log(2. * PI) - 0.5 * x**2.\n",
        "    if reduction == 'avg':\n",
        "        return torch.mean(log_p, dim)\n",
        "    elif reduction == 'sum':\n",
        "        return torch.sum(log_p, dim)\n",
        "    else:\n",
        "        return log_p"
      ]
    },
    {
      "cell_type": "markdown",
      "metadata": {
        "id": "Q2LLOs0kn7iw"
      },
      "source": [
        "## Implementing VAEs\n",
        "\n",
        "The goal of this assignment is to implement four classes:\n",
        "- `Encoder`: this class implements the encoder (variational posterior), $q_{\\phi}(\\mathbf{z}|\\mathbf{x})$.\n",
        "- `Decoder`: this class implements the decoded (the conditional likelihood), $p_{\\theta}(\\mathbf{x}|\\mathbf{z})$.\n",
        "- `Prior`: this class implements the marginal over latents (the prior), $p_{\\lambda}(\\mathbf{z})$.\n",
        "- `VAE`: this class combines all components."
      ]
    },
    {
      "cell_type": "markdown",
      "metadata": {
        "id": "AnziXXLPJhp6"
      },
      "source": [
        "#### Question 0: (3 pt)\n",
        "**Fully-connected Neural Networks (MLPs) or Convolutional Neural Networks**\n",
        "\n",
        "This is not a real question but rather a comment. You are asked to implement your VAE using fully connected neural networks (MLPs) or convolutional neural networks (ConvNets).\n",
        "\n",
        "There is a difference in grading of this assignment based on your decision:\n",
        "- **If you decide to implement your VAE with MLPs and the model works properly, you get 1 pt.**\n",
        "- **If you decide to implement your VAE with ConvNets and the model works properly, you get 3 pts.**"
      ]
    },
    {
      "cell_type": "markdown",
      "metadata": {
        "id": "7cXhOwKAzW6Z"
      },
      "source": [
        "### Encoder\n",
        "We start with `Encoder`. Please remember that we assume the Gaussian variational posterior with a diagonal covariance matrix.\n",
        "\n",
        "Feel free to add other methods to the class as well as arguments to the class initialization."
      ]
    },
    {
      "cell_type": "code",
      "execution_count": null,
      "metadata": {
        "id": "MrwQXSuEoFfH"
      },
      "outputs": [],
      "source": [
        "class Encoder(nn.Module):\n",
        "    def __init__(self, latents_dim):\n",
        "        super(Encoder, self).__init__()\n",
        "\n",
        "        self.latents = latents_dim\n",
        "\n",
        "        self.encoder_model = nn.Sequential(\n",
        "            nn.Conv2d( 1, 32, 3, 2, padding = 1), nn.LeakyReLU(),\n",
        "            nn.Conv2d(32, 64, 3, 2, padding = 1), nn.LeakyReLU(),\n",
        "            nn.Conv2d(64, 128, 3, 1, padding = 1), nn.LeakyReLU(),\n",
        "            nn.Conv2d(128, 256, 3, 1, padding = 1), nn.LeakyReLU(),\n",
        "            nn.Flatten(),\n",
        "            nn.Linear(7*7*256, self.latents + self.latents),\n",
        "        )\n",
        "\n",
        "    @staticmethod\n",
        "    def reparameterization(mu, log_var):\n",
        "        eps = torch.normal(0, 1, size=mu.shape).to(device)\n",
        "        return eps * torch.exp(log_var * .5) + mu\n",
        "\n",
        "    @staticmethod\n",
        "    def log_prob(z, mu_e, log_var_e):\n",
        "        return log_normal_diag(z, mu_e, log_var_e)\n",
        "\n",
        "    def encode(self, x):\n",
        "        encoded = self.encoder_model(x)\n",
        "        mu, log_var = torch.chunk(encoded, 2, dim=1)\n",
        "\n",
        "        return mu, log_var\n",
        "\n",
        "    def sample(self, x=None, mu_e=None, log_var_e=None):\n",
        "        if x is not None:\n",
        "            mu_e, log_var_e = self.encode(x)\n",
        "\n",
        "        return self.reparameterization(mu=mu_e, log_var=log_var_e)  # Z\n",
        "\n",
        "    def forward(self, x):\n",
        "        mu_e, log_var_e = self.encode(x)\n",
        "        z = self.reparameterization(mu_e, log_var_e)\n",
        "        return self.log_prob(z, mu_e, log_var_e)\n"
      ]
    },
    {
      "cell_type": "markdown",
      "metadata": {
        "id": "8XVlH5OUzdgJ"
      },
      "source": [
        "Please answer the following questions:"
      ]
    },
    {
      "cell_type": "markdown",
      "metadata": {
        "id": "D1BNAH02zjjt"
      },
      "source": [
        "\n",
        "#### Question 1 (0.5 pt)\n",
        "\n",
        "Please explain the reparameterization trick and provide a mathematical formula."
      ]
    },
    {
      "cell_type": "markdown",
      "metadata": {
        "id": "UlxYq7-gzo_o"
      },
      "source": [
        "ANSWER: [Please fill in]"
      ]
    },
    {
      "cell_type": "markdown",
      "metadata": {
        "id": "HpRgXdtBzt3-"
      },
      "source": [
        "#### Question 2 (0.25 pt)\n",
        "\n",
        "Please write down mathematically the log-probability of the encoder (variational posterior)."
      ]
    },
    {
      "cell_type": "markdown",
      "metadata": {
        "id": "ET-mMAg10Ewv"
      },
      "source": [
        "ANSWER: [Please fill in]"
      ]
    },
    {
      "cell_type": "markdown",
      "metadata": {
        "id": "nhNTy5mn0XDT"
      },
      "source": [
        "### Decoder\n",
        "\n",
        "The decoder is the conditional likelihood, i.e., $p(\\mathbf{x}|\\mathbf{z})$. Please remember that we must decide on the form of the distribution (e.g., Bernoulli, Gaussian, Categorical). Please discuss it with a TA or a lecturer if you are in doubt."
      ]
    },
    {
      "cell_type": "code",
      "execution_count": null,
      "metadata": {
        "id": "9vTmKHwrpUVa"
      },
      "outputs": [],
      "source": [
        "class Decoder(nn.Module):\n",
        "    def __init__(self, latents_dim):\n",
        "        super(Decoder, self).__init__()\n",
        "\n",
        "        self.latents = latents_dim\n",
        "\n",
        "        self.decoder_model = nn.Sequential(\n",
        "            nn.Linear(self.latents, 5*5*256),\n",
        "                nn.Unflatten(1, (256, 5, 5)),\n",
        "                nn.ConvTranspose2d(in_channels=256, out_channels=128, kernel_size=3, stride = 2, output_padding=1), nn.LeakyReLU(),\n",
        "                nn.ConvTranspose2d(in_channels=128, out_channels=64, kernel_size=3, stride = 2, output_padding=1), nn.LeakyReLU(),\n",
        "                nn.ConvTranspose2d(in_channels=64, out_channels=32, kernel_size=2, stride = 1, output_padding=0), nn.LeakyReLU(),\n",
        "                nn.ConvTranspose2d(in_channels=32, out_channels=1, kernel_size=2, stride = 1)\n",
        "            )\n",
        "\n",
        "\n",
        "    def decode(self, z):\n",
        "        decoded = self.decoder_model(z)\n",
        "        return torch.sigmoid(decoded) # probs\n",
        "\n",
        "    def sample(self, z):\n",
        "        probs = self.decode(z)\n",
        "        return probs\n",
        "\n",
        "    def log_prob(self, z, x):\n",
        "        probs = self.decode(z)\n",
        "        return log_bernoulli(x, probs, reduction='sum', dim=[1, 2, 3])\n",
        "\n",
        "    def forward(self, z, x):\n",
        "        probs = self.decode(z)\n",
        "        return self.log_prob(x, probs)"
      ]
    },
    {
      "cell_type": "markdown",
      "metadata": {
        "id": "5xjbNkNL01DP"
      },
      "source": [
        "Please answer the following questions:"
      ]
    },
    {
      "cell_type": "markdown",
      "metadata": {
        "id": "qjDvPaBj04cA"
      },
      "source": [
        "#### Question 3 (0.5 pt)\n",
        "\n",
        "Please explain your choice of the distribution for image data used in this assignment. Additionally, please write it down mathematically (if you think that presenting it as the log-probability, then please do it)."
      ]
    },
    {
      "cell_type": "markdown",
      "metadata": {
        "id": "HLZEzmGI1Ok-"
      },
      "source": [
        "ANSWER: [Please fill in]"
      ]
    },
    {
      "cell_type": "markdown",
      "metadata": {
        "id": "RhbWamId1eGt"
      },
      "source": [
        "#### Question 4 (0.5 pt)\n",
        "\n",
        "Please explain how one can sample from the distribution chosen by you. Please be specific and formal (i.e., provide mathematical formulae). If applicable, please provide a code snippet."
      ]
    },
    {
      "cell_type": "markdown",
      "metadata": {
        "id": "CLIEwIiw00op"
      },
      "source": [
        "### Prior\n",
        "\n",
        "The prior is the marginal distribution over latent variables, i.e., $p(\\mathbf{z})$. It plays a crucial role in the generative process and also in synthesizing images of a better quality.\n",
        "\n",
        "In this assignment, you are asked to implement a prior that is learnable (e.g., parameterized by neural networks). If you decide to implement the standard Gaussian prior only, then please be aware that you will not get any points.\n",
        "\n",
        "\n",
        "For the learnable prior you can choose one of the following options:\n",
        "\n",
        "\n",
        "*   Mixture of Gaussians\n",
        "*   Normalizing Flow\n"
      ]
    },
    {
      "cell_type": "code",
      "source": [
        "ACTIVATION_DERIVATIVES = {\n",
        "    F.elu: lambda x: torch.ones_like(x) * (x >= 0) + torch.exp(x) * (x < 0),\n",
        "    torch.tanh: lambda x: 1 - torch.tanh(x) ** 2,\n",
        "    torch.sigmoid: lambda x: torch.sigmoid(x)*(1-torch.sigmoid(x))\n",
        "}"
      ],
      "metadata": {
        "id": "Lvf9ji3mMr7s"
      },
      "execution_count": null,
      "outputs": []
    },
    {
      "cell_type": "code",
      "source": [
        "class PlanarFlow(nn.Module):\n",
        "    def __init__(self, D, activation=torch.tanh):\n",
        "        super().__init__()\n",
        "        self.D = D\n",
        "        self.w = nn.Parameter(torch.empty(D))\n",
        "        self.b = nn.Parameter(torch.empty(1))\n",
        "        self.u = nn.Parameter(torch.empty(D))\n",
        "        self.activation = activation\n",
        "        self.activation_derivative = ACTIVATION_DERIVATIVES[activation]\n",
        "\n",
        "        nn.init.normal_(self.w)\n",
        "        nn.init.normal_(self.u)\n",
        "        nn.init.normal_(self.b)\n",
        "\n",
        "    def forward(self, z: torch.Tensor):\n",
        "        lin = (z @ self.w + self.b).unsqueeze(1)  # shape: (B, 1)\n",
        "        f = z + self.u * self.activation(lin)  # shape: (B, D)\n",
        "        phi = self.activation_derivative(lin) * self.w  # shape: (B, D)\n",
        "        log_det = torch.log(torch.abs(1 + phi @ self.u)) # shape: (B,)\n",
        "\n",
        "        return f, log_det"
      ],
      "metadata": {
        "id": "iXU_xJedG8RI"
      },
      "execution_count": null,
      "outputs": []
    },
    {
      "cell_type": "code",
      "execution_count": null,
      "metadata": {
        "id": "xQIvee5Cp69V"
      },
      "outputs": [],
      "source": [
        "class Prior(nn.Module):\n",
        "    def __init__(self, latents_dim):\n",
        "        super(Prior, self).__init__()\n",
        "\n",
        "        self.latents = latents_dim\n",
        "        self.flows = ['PlanarFlow'] * 3\n",
        "\n",
        "        self.net = []\n",
        "\n",
        "        for i in range(len(self.flows)):\n",
        "            layer_class = eval(self.flows[i])\n",
        "            self.net.append(layer_class(self.latents))\n",
        "\n",
        "        self.net = nn.Sequential(*self.net)\n",
        "\n",
        "\n",
        "    def sample(self, batch_size):\n",
        "        z = torch.normal(0, 1, size=(batch_size, self.latents)).to(device)\n",
        "        z, log_det = self.forward(z)\n",
        "        return z, log_det\n",
        "\n",
        "    @staticmethod\n",
        "    def log_prob(z):\n",
        "        return log_standard_normal(z)\n",
        "\n",
        "    def forward(self, z):\n",
        "        log_det = torch.zeros((z.shape[0],))\n",
        "\n",
        "        for layer in self.net:\n",
        "            z, ld = layer(z)\n",
        "            log_det += ld\n",
        "\n",
        "        return z, log_det\n"
      ]
    },
    {
      "cell_type": "markdown",
      "metadata": {
        "id": "z0KH9f2O_PDg"
      },
      "source": [
        "#### Question 5 (2 pts max)\n",
        "\n",
        "**Option 1 (0 pt):  Standard Gaussian**\n",
        "\n",
        "**NOTE: *If you decide to use the standard Gaussian prior, please indicate it in your answer. However, you will get 0 pt for this question.***\n",
        "\n",
        "**Option 2 (0.5 pt): Mixture of Gaussains**\n",
        "\n",
        "Please do the following:\n",
        "- (0.25 pt) Please explain your prior and write it down mathematically\n",
        "- (0.15 pt) Please write down its sampling procedure (if necessary, please add a code snippet).\n",
        "- (0.1 pt) Please write down its log-probability (a mathematical formula).\n",
        "\n",
        "**Option 3 (2 pts): Normalizing Flow**\n",
        "\n",
        "Please do the following:\n",
        "- (1 pt) Please explain your prior and write it down mathematically\n",
        "- (0.5 pt) Please write down its sampling procedure (if necessary, please add a code snippet).\n",
        "- (0.5 pt) Please write down its log-probability (a mathematical formula)."
      ]
    },
    {
      "cell_type": "markdown",
      "metadata": {
        "id": "aOM4QM9I_62d"
      },
      "source": [
        "### Complete VAE\n",
        "\n",
        "The last class is `VAE` tha combines all components. Please remember that this class must implement the **Negative ELBO** in `forward`, as well as `sample` (*hint*: it is a composition of `sample` functions from the prior and the decoder)."
      ]
    },
    {
      "cell_type": "code",
      "execution_count": null,
      "metadata": {
        "id": "OQpf-BeSqA6V"
      },
      "outputs": [],
      "source": [
        "class VAE(nn.Module):\n",
        "    def __init__(self, latent_dim):\n",
        "        super(VAE, self).__init__()\n",
        "\n",
        "        self.latents = latent_dim\n",
        "\n",
        "        self.encoder = Encoder(latents_dim=self.latents)\n",
        "        self.decoder = Decoder(latents_dim=self.latents)\n",
        "        self.prior = Prior(latents_dim=self.latents)\n",
        "\n",
        "    def sample(self, batch_size=64):\n",
        "        z = self.prior.sample(batch_size)\n",
        "        return self.decoder.sample(z)\n",
        "\n",
        "    def forward(self, x, reduction='mean'):\n",
        "        mu, log_var = self.encoder.encode(x)\n",
        "        z = self.encoder.reparameterization(mu, log_var)\n",
        "        logqz_x = self.encoder.log_prob(z=z, mu_e=mu, log_var_e=log_var)\n",
        "\n",
        "        z_k, log_det = self.prior.forward(z)\n",
        "        logpz = self.prior.log_prob(z=z_k)\n",
        "        logpx_z = self.decoder.log_prob(z=z_k, x=x)\n",
        "\n",
        "        RE = logpx_z\n",
        "        KL = torch.sum(logpz - logqz_x, dim=1)\n",
        "        NELBO = -(RE + KL + log_det)\n",
        "\n",
        "        if reduction == 'sum':\n",
        "            return NELBO.sum()\n",
        "        else:\n",
        "            return NELBO.mean()\n"
      ]
    },
    {
      "cell_type": "markdown",
      "metadata": {
        "id": "eaJgXPYyAmeJ"
      },
      "source": [
        "#### Question 6 (0.5 pt)\n",
        "\n",
        "Please write down mathematically the **Negative ELBO** and provide a code snippet."
      ]
    },
    {
      "cell_type": "markdown",
      "metadata": {
        "id": "THYyO-G7AkSQ"
      },
      "source": [
        "ANSWER: [Please fill in]"
      ]
    },
    {
      "cell_type": "markdown",
      "metadata": {
        "id": "hLhgze7DA4yx"
      },
      "source": [
        "### Evaluation and training functions\n",
        "\n",
        "**Please do not remove or modify them.**"
      ]
    },
    {
      "cell_type": "code",
      "execution_count": null,
      "metadata": {
        "id": "I9Dr3a6lqJ0W"
      },
      "outputs": [],
      "source": [
        "# DO NOT REMOVE\n",
        "\n",
        "def evaluation(test_loader, name=None, model_best=None, epoch=None):\n",
        "    # EVALUATION\n",
        "    if model_best is None:\n",
        "        # load best performing model\n",
        "        model_best = torch.load(name + '.model')\n",
        "\n",
        "    model_best.eval()\n",
        "    loss = 0.\n",
        "    N = 0.\n",
        "    for indx_batch, (test_batch, _) in enumerate(test_loader):\n",
        "        test_batch = test_batch.to(device)\n",
        "        loss_t = model_best.forward(test_batch, reduction='sum')\n",
        "        loss = loss + loss_t.item()\n",
        "        N = N + test_batch.shape[0]\n",
        "    loss = loss / N\n",
        "\n",
        "    if epoch is None:\n",
        "        print(f'FINAL LOSS: nll={loss}')\n",
        "    else:\n",
        "        print(f'Epoch: {epoch}, val nll={loss}')\n",
        "\n",
        "    return loss\n",
        "\n",
        "\n",
        "def samples_real(name, test_loader, shape=(28,28)):\n",
        "    # real images-------\n",
        "    num_x = 4\n",
        "    num_y = 4\n",
        "    x, _ = next(iter(test_loader))\n",
        "    x = x.to('cpu').detach().numpy()\n",
        "\n",
        "    fig, ax = plt.subplots(num_x, num_y)\n",
        "    for i, ax in enumerate(ax.flatten()):\n",
        "        plottable_image = np.reshape(x[i], shape)\n",
        "        ax.imshow(plottable_image, cmap='gray')\n",
        "        ax.axis('off')\n",
        "\n",
        "    plt.savefig(name+'_real_images.pdf', bbox_inches='tight')\n",
        "    plt.close()\n",
        "\n",
        "\n",
        "def samples_generated(name, data_loader, shape=(28,28), extra_name=''):\n",
        "    x, _ = next(iter(data_loader))\n",
        "    x = x.to('cpu').detach().numpy()\n",
        "\n",
        "    # generations-------\n",
        "    model_best = torch.load(name + '.model')\n",
        "    model_best.eval()\n",
        "\n",
        "    num_x = 4\n",
        "    num_y = 4\n",
        "    x = model_best.sample(num_x * num_y)\n",
        "    x = x.to('cpu').detach().numpy()\n",
        "\n",
        "    fig, ax = plt.subplots(num_x, num_y)\n",
        "    for i, ax in enumerate(ax.flatten()):\n",
        "        plottable_image = np.reshape(x[i], shape)\n",
        "        ax.imshow(plottable_image, cmap='gray')\n",
        "        ax.axis('off')\n",
        "\n",
        "    plt.savefig(name + '_generated_images' + extra_name + '.pdf', bbox_inches='tight')\n",
        "    plt.close()\n",
        "\n",
        "\n",
        "def plot_curve(name, nll_val):\n",
        "    plt.plot(np.arange(len(nll_val)), nll_val, linewidth='3')\n",
        "    plt.xlabel('epochs')\n",
        "    plt.ylabel('nll')\n",
        "    plt.savefig(name + '_nll_val_curve.pdf', bbox_inches='tight')\n",
        "    plt.close()"
      ]
    },
    {
      "cell_type": "code",
      "execution_count": null,
      "metadata": {
        "id": "9ABgMeG0qFAP"
      },
      "outputs": [],
      "source": [
        "# DO NOT REMOVE\n",
        "\n",
        "def training(name, max_patience, num_epochs, model, optimizer, training_loader, val_loader, shape=(28,28)):\n",
        "    nll_val = []\n",
        "    best_nll = 1000.\n",
        "    patience = 0\n",
        "\n",
        "    # Main loop\n",
        "    for e in range(num_epochs):\n",
        "        # TRAINING\n",
        "        model.train()\n",
        "        for indx_batch, (batch, _) in enumerate(training_loader):\n",
        "            batch = batch.to(device)\n",
        "            loss = model.forward(batch, reduction='mean')\n",
        "\n",
        "            optimizer.zero_grad()\n",
        "            loss.backward()\n",
        "            optimizer.step()\n",
        "\n",
        "        # Validation\n",
        "        loss_val = evaluation(val_loader, model_best=model, epoch=e)\n",
        "        nll_val.append(loss_val)  # save for plotting\n",
        "\n",
        "        if e == 0:\n",
        "            print('saved!')\n",
        "            torch.save(model, name + '.model')\n",
        "            best_nll = loss_val\n",
        "        else:\n",
        "            if loss_val < best_nll:\n",
        "                print('saved!')\n",
        "                torch.save(model, name + '.model')\n",
        "                best_nll = loss_val\n",
        "                patience = 0\n",
        "\n",
        "                samples_generated(name, val_loader, shape=shape, extra_name=\"_epoch_\" + str(e))\n",
        "            else:\n",
        "                patience = patience + 1\n",
        "\n",
        "        if patience > max_patience:\n",
        "            break\n",
        "\n",
        "    nll_val = np.asarray(nll_val)\n",
        "\n",
        "    return nll_val"
      ]
    },
    {
      "cell_type": "markdown",
      "metadata": {
        "id": "kWr8N2u2qNTu"
      },
      "source": [
        "### Setup\n",
        "\n",
        "**NOTE: *Please comment your code! Especially if you introduce any new variables (e.g., hyperparameters).***\n",
        "\n",
        "In the following cells, we define `transforms` for the dataset. Next, we initialize the data, a directory for results and some fixed hyperparameters."
      ]
    },
    {
      "cell_type": "code",
      "execution_count": null,
      "metadata": {
        "id": "bFTE5jtYpxDV"
      },
      "outputs": [],
      "source": [
        "# PLEASE DEFINE APPROPRIATE TRANSFORMS FOR THE DATASET\n",
        "transforms_train = torchvision.transforms.Compose([\n",
        "                        torchvision.transforms.ToTensor(),\n",
        "                        # torchvision.transforms.Lambda(lambda x: torch.bernoulli(x))\n",
        "                        ])\n",
        "\n",
        "transforms_test = torchvision.transforms.Compose([\n",
        "                        torchvision.transforms.ToTensor(),\n",
        "                        # torchvision.transforms.Lambda(lambda x: torch.bernoulli(x))\n",
        "                        ])"
      ]
    },
    {
      "cell_type": "markdown",
      "metadata": {
        "id": "8SDcOBbGCM8z"
      },
      "source": [
        "Please do not modify the code in the next cell."
      ]
    },
    {
      "cell_type": "code",
      "execution_count": null,
      "metadata": {
        "id": "UXHitzrYqNhY"
      },
      "outputs": [],
      "source": [
        "# DO NOT REMOVE\n",
        "#-dataset\n",
        "dataset = MNIST('./files/', train=True, download=True, transform=transforms_train)\n",
        "\n",
        "train_dataset, val_dataset = torch.utils.data.random_split(dataset, [50000, 10000], generator=torch.Generator().manual_seed(14))\n",
        "\n",
        "test_dataset = MNIST('./files/', train=False, download=True, transform=transforms_test)\n",
        "\n",
        "#-dataloaders\n",
        "batch_size = 32\n",
        "\n",
        "train_loader = DataLoader(train_dataset, batch_size=batch_size, shuffle=True)\n",
        "val_loader = DataLoader(val_dataset, batch_size=batch_size, shuffle=False)\n",
        "test_loader = DataLoader(test_dataset, batch_size=batch_size, shuffle=False)\n",
        "\n",
        "#-creating a dir for saving results\n",
        "name = 'vae'\n",
        "result_dir = images_dir + 'results/' + name + '/'\n",
        "if not(os.path.exists(result_dir)):\n",
        "    os.makedirs(result_dir)\n",
        "\n",
        "#-hyperparams (please do not modify them for the final report)\n",
        "num_epochs = 100 # max. number of epochs\n",
        "max_patience = 10 # an early stopping is used, if training doesn't improve for longer than 20 epochs, it is stopped"
      ]
    },
    {
      "cell_type": "markdown",
      "metadata": {
        "id": "kmKDXMI0B231"
      },
      "source": [
        "In the next cell, please initialize the model. Please remember about commenting your code!"
      ]
    },
    {
      "cell_type": "code",
      "execution_count": null,
      "metadata": {
        "colab": {
          "base_uri": "https://localhost:8080/"
        },
        "id": "b73aaBDxqSYb",
        "outputId": "dfa52f4d-c8ab-4a06-9576-fa61dd163e26"
      },
      "outputs": [
        {
          "output_type": "execute_result",
          "data": {
            "text/plain": [
              "VAE(\n",
              "  (encoder): Encoder(\n",
              "    (encoder_model): Sequential(\n",
              "      (0): Conv2d(1, 32, kernel_size=(3, 3), stride=(2, 2), padding=(1, 1))\n",
              "      (1): LeakyReLU(negative_slope=0.01)\n",
              "      (2): Conv2d(32, 64, kernel_size=(3, 3), stride=(2, 2), padding=(1, 1))\n",
              "      (3): LeakyReLU(negative_slope=0.01)\n",
              "      (4): Conv2d(64, 128, kernel_size=(3, 3), stride=(1, 1), padding=(1, 1))\n",
              "      (5): LeakyReLU(negative_slope=0.01)\n",
              "      (6): Conv2d(128, 256, kernel_size=(3, 3), stride=(1, 1), padding=(1, 1))\n",
              "      (7): LeakyReLU(negative_slope=0.01)\n",
              "      (8): Flatten(start_dim=1, end_dim=-1)\n",
              "      (9): Linear(in_features=12544, out_features=20, bias=True)\n",
              "    )\n",
              "  )\n",
              "  (decoder): Decoder(\n",
              "    (decoder_model): Sequential(\n",
              "      (0): Linear(in_features=10, out_features=6400, bias=True)\n",
              "      (1): Unflatten(dim=1, unflattened_size=(256, 5, 5))\n",
              "      (2): ConvTranspose2d(256, 128, kernel_size=(3, 3), stride=(2, 2), output_padding=(1, 1))\n",
              "      (3): LeakyReLU(negative_slope=0.01)\n",
              "      (4): ConvTranspose2d(128, 64, kernel_size=(3, 3), stride=(2, 2), output_padding=(1, 1))\n",
              "      (5): LeakyReLU(negative_slope=0.01)\n",
              "      (6): ConvTranspose2d(64, 32, kernel_size=(2, 2), stride=(1, 1))\n",
              "      (7): LeakyReLU(negative_slope=0.01)\n",
              "      (8): ConvTranspose2d(32, 1, kernel_size=(2, 2), stride=(1, 1))\n",
              "    )\n",
              "  )\n",
              "  (prior): Prior(\n",
              "    (net): Sequential(\n",
              "      (0): PlanarFlow()\n",
              "      (1): PlanarFlow()\n",
              "      (2): PlanarFlow()\n",
              "    )\n",
              "  )\n",
              ")"
            ]
          },
          "metadata": {},
          "execution_count": 57
        }
      ],
      "source": [
        "# YOUR CODE COMES HERE:\n",
        "latent_dim = 10\n",
        "\n",
        "model = VAE(latent_dim=latent_dim)\n",
        "model.to(device)"
      ]
    },
    {
      "cell_type": "markdown",
      "metadata": {
        "id": "iC8AkWt4CURT"
      },
      "source": [
        "Please initialize the optimizer"
      ]
    },
    {
      "cell_type": "code",
      "execution_count": null,
      "metadata": {
        "id": "a3nTSDe7ql08"
      },
      "outputs": [],
      "source": [
        "# PLEASE DEFINE YOUR OPTIMIZER\n",
        "lr = 0.003 # learning rate\n",
        "optimizer = torch.optim.Adamax(model.parameters(), lr=lr)"
      ]
    },
    {
      "cell_type": "markdown",
      "metadata": {
        "id": "79odxtRjCaix"
      },
      "source": [
        "#### Question 7 (0.5 pt)\n",
        "\n",
        "Please explain the choice of the optimizer, and comment on the choice of the hyperparameters (e.g., the learing reate value)."
      ]
    },
    {
      "cell_type": "markdown",
      "metadata": {
        "id": "cEjOlYN9Ft_B"
      },
      "source": [
        "ANSWER: [Please fill in]"
      ]
    },
    {
      "cell_type": "markdown",
      "metadata": {
        "id": "P5GrzUcHFweG"
      },
      "source": [
        "### Training and final evaluation\n",
        "\n",
        "In the following two cells, we run the training and the final evaluation."
      ]
    },
    {
      "cell_type": "code",
      "execution_count": null,
      "metadata": {
        "colab": {
          "base_uri": "https://localhost:8080/",
          "height": 435
        },
        "id": "VD7WuY6bqnBK",
        "outputId": "2add1096-9715-4cb9-f4b9-f26b9fbc8b7c"
      },
      "outputs": [
        {
          "output_type": "stream",
          "name": "stdout",
          "text": [
            "Epoch: 0, val nll=117.94112896728515\n",
            "saved!\n"
          ]
        },
        {
          "output_type": "error",
          "ename": "PicklingError",
          "evalue": "ignored",
          "traceback": [
            "\u001b[0;31m---------------------------------------------------------------------------\u001b[0m",
            "\u001b[0;31mPicklingError\u001b[0m                             Traceback (most recent call last)",
            "\u001b[0;32m<ipython-input-59-676a796d9c6c>\u001b[0m in \u001b[0;36m<cell line: 3>\u001b[0;34m()\u001b[0m\n\u001b[1;32m      1\u001b[0m \u001b[0;31m# DO NOT REMOVE OR MODIFY\u001b[0m\u001b[0;34m\u001b[0m\u001b[0;34m\u001b[0m\u001b[0m\n\u001b[1;32m      2\u001b[0m \u001b[0;31m# Training procedure\u001b[0m\u001b[0;34m\u001b[0m\u001b[0;34m\u001b[0m\u001b[0m\n\u001b[0;32m----> 3\u001b[0;31m nll_val = training(name=result_dir + name, max_patience=max_patience,\n\u001b[0m\u001b[1;32m      4\u001b[0m                    \u001b[0mnum_epochs\u001b[0m\u001b[0;34m=\u001b[0m\u001b[0mnum_epochs\u001b[0m\u001b[0;34m,\u001b[0m \u001b[0mmodel\u001b[0m\u001b[0;34m=\u001b[0m\u001b[0mmodel\u001b[0m\u001b[0;34m,\u001b[0m \u001b[0moptimizer\u001b[0m\u001b[0;34m=\u001b[0m\u001b[0moptimizer\u001b[0m\u001b[0;34m,\u001b[0m\u001b[0;34m\u001b[0m\u001b[0;34m\u001b[0m\u001b[0m\n\u001b[1;32m      5\u001b[0m                    \u001b[0mtraining_loader\u001b[0m\u001b[0;34m=\u001b[0m\u001b[0mtrain_loader\u001b[0m\u001b[0;34m,\u001b[0m \u001b[0mval_loader\u001b[0m\u001b[0;34m=\u001b[0m\u001b[0mval_loader\u001b[0m\u001b[0;34m,\u001b[0m\u001b[0;34m\u001b[0m\u001b[0;34m\u001b[0m\u001b[0m\n",
            "\u001b[0;32m<ipython-input-54-a41acf23aa8b>\u001b[0m in \u001b[0;36mtraining\u001b[0;34m(name, max_patience, num_epochs, model, optimizer, training_loader, val_loader, shape)\u001b[0m\n\u001b[1;32m     24\u001b[0m         \u001b[0;32mif\u001b[0m \u001b[0me\u001b[0m \u001b[0;34m==\u001b[0m \u001b[0;36m0\u001b[0m\u001b[0;34m:\u001b[0m\u001b[0;34m\u001b[0m\u001b[0;34m\u001b[0m\u001b[0m\n\u001b[1;32m     25\u001b[0m             \u001b[0mprint\u001b[0m\u001b[0;34m(\u001b[0m\u001b[0;34m'saved!'\u001b[0m\u001b[0;34m)\u001b[0m\u001b[0;34m\u001b[0m\u001b[0;34m\u001b[0m\u001b[0m\n\u001b[0;32m---> 26\u001b[0;31m             \u001b[0mtorch\u001b[0m\u001b[0;34m.\u001b[0m\u001b[0msave\u001b[0m\u001b[0;34m(\u001b[0m\u001b[0mmodel\u001b[0m\u001b[0;34m,\u001b[0m \u001b[0mname\u001b[0m \u001b[0;34m+\u001b[0m \u001b[0;34m'.model'\u001b[0m\u001b[0;34m)\u001b[0m\u001b[0;34m\u001b[0m\u001b[0;34m\u001b[0m\u001b[0m\n\u001b[0m\u001b[1;32m     27\u001b[0m             \u001b[0mbest_nll\u001b[0m \u001b[0;34m=\u001b[0m \u001b[0mloss_val\u001b[0m\u001b[0;34m\u001b[0m\u001b[0;34m\u001b[0m\u001b[0m\n\u001b[1;32m     28\u001b[0m         \u001b[0;32melse\u001b[0m\u001b[0;34m:\u001b[0m\u001b[0;34m\u001b[0m\u001b[0;34m\u001b[0m\u001b[0m\n",
            "\u001b[0;32m/usr/local/lib/python3.10/dist-packages/torch/serialization.py\u001b[0m in \u001b[0;36msave\u001b[0;34m(obj, f, pickle_module, pickle_protocol, _use_new_zipfile_serialization, _disable_byteorder_record)\u001b[0m\n\u001b[1;32m    617\u001b[0m     \u001b[0;32mif\u001b[0m \u001b[0m_use_new_zipfile_serialization\u001b[0m\u001b[0;34m:\u001b[0m\u001b[0;34m\u001b[0m\u001b[0;34m\u001b[0m\u001b[0m\n\u001b[1;32m    618\u001b[0m         \u001b[0;32mwith\u001b[0m \u001b[0m_open_zipfile_writer\u001b[0m\u001b[0;34m(\u001b[0m\u001b[0mf\u001b[0m\u001b[0;34m)\u001b[0m \u001b[0;32mas\u001b[0m \u001b[0mopened_zipfile\u001b[0m\u001b[0;34m:\u001b[0m\u001b[0;34m\u001b[0m\u001b[0;34m\u001b[0m\u001b[0m\n\u001b[0;32m--> 619\u001b[0;31m             \u001b[0m_save\u001b[0m\u001b[0;34m(\u001b[0m\u001b[0mobj\u001b[0m\u001b[0;34m,\u001b[0m \u001b[0mopened_zipfile\u001b[0m\u001b[0;34m,\u001b[0m \u001b[0mpickle_module\u001b[0m\u001b[0;34m,\u001b[0m \u001b[0mpickle_protocol\u001b[0m\u001b[0;34m,\u001b[0m \u001b[0m_disable_byteorder_record\u001b[0m\u001b[0;34m)\u001b[0m\u001b[0;34m\u001b[0m\u001b[0;34m\u001b[0m\u001b[0m\n\u001b[0m\u001b[1;32m    620\u001b[0m             \u001b[0;32mreturn\u001b[0m\u001b[0;34m\u001b[0m\u001b[0;34m\u001b[0m\u001b[0m\n\u001b[1;32m    621\u001b[0m     \u001b[0;32melse\u001b[0m\u001b[0;34m:\u001b[0m\u001b[0;34m\u001b[0m\u001b[0;34m\u001b[0m\u001b[0m\n",
            "\u001b[0;32m/usr/local/lib/python3.10/dist-packages/torch/serialization.py\u001b[0m in \u001b[0;36m_save\u001b[0;34m(obj, zip_file, pickle_module, pickle_protocol, _disable_byteorder_record)\u001b[0m\n\u001b[1;32m    829\u001b[0m     \u001b[0mpickler\u001b[0m \u001b[0;34m=\u001b[0m \u001b[0mpickle_module\u001b[0m\u001b[0;34m.\u001b[0m\u001b[0mPickler\u001b[0m\u001b[0;34m(\u001b[0m\u001b[0mdata_buf\u001b[0m\u001b[0;34m,\u001b[0m \u001b[0mprotocol\u001b[0m\u001b[0;34m=\u001b[0m\u001b[0mpickle_protocol\u001b[0m\u001b[0;34m)\u001b[0m\u001b[0;34m\u001b[0m\u001b[0;34m\u001b[0m\u001b[0m\n\u001b[1;32m    830\u001b[0m     \u001b[0mpickler\u001b[0m\u001b[0;34m.\u001b[0m\u001b[0mpersistent_id\u001b[0m \u001b[0;34m=\u001b[0m \u001b[0mpersistent_id\u001b[0m\u001b[0;34m\u001b[0m\u001b[0;34m\u001b[0m\u001b[0m\n\u001b[0;32m--> 831\u001b[0;31m     \u001b[0mpickler\u001b[0m\u001b[0;34m.\u001b[0m\u001b[0mdump\u001b[0m\u001b[0;34m(\u001b[0m\u001b[0mobj\u001b[0m\u001b[0;34m)\u001b[0m\u001b[0;34m\u001b[0m\u001b[0;34m\u001b[0m\u001b[0m\n\u001b[0m\u001b[1;32m    832\u001b[0m     \u001b[0mdata_value\u001b[0m \u001b[0;34m=\u001b[0m \u001b[0mdata_buf\u001b[0m\u001b[0;34m.\u001b[0m\u001b[0mgetvalue\u001b[0m\u001b[0;34m(\u001b[0m\u001b[0;34m)\u001b[0m\u001b[0;34m\u001b[0m\u001b[0;34m\u001b[0m\u001b[0m\n\u001b[1;32m    833\u001b[0m     \u001b[0mzip_file\u001b[0m\u001b[0;34m.\u001b[0m\u001b[0mwrite_record\u001b[0m\u001b[0;34m(\u001b[0m\u001b[0;34m'data.pkl'\u001b[0m\u001b[0;34m,\u001b[0m \u001b[0mdata_value\u001b[0m\u001b[0;34m,\u001b[0m \u001b[0mlen\u001b[0m\u001b[0;34m(\u001b[0m\u001b[0mdata_value\u001b[0m\u001b[0;34m)\u001b[0m\u001b[0;34m)\u001b[0m\u001b[0;34m\u001b[0m\u001b[0;34m\u001b[0m\u001b[0m\n",
            "\u001b[0;31mPicklingError\u001b[0m: Can't pickle <function <lambda> at 0x7ec453b4f370>: attribute lookup <lambda> on __main__ failed"
          ]
        }
      ],
      "source": [
        "# DO NOT REMOVE OR MODIFY\n",
        "# Training procedure\n",
        "nll_val = training(name=result_dir + name, max_patience=max_patience,\n",
        "                   num_epochs=num_epochs, model=model, optimizer=optimizer,\n",
        "                   training_loader=train_loader, val_loader=val_loader,\n",
        "                   shape=(28,28))"
      ]
    },
    {
      "cell_type": "code",
      "execution_count": null,
      "metadata": {
        "id": "JAuMt9_wquOI"
      },
      "outputs": [],
      "source": [
        "# DO NOT REMOVE OR MODIFY\n",
        "# Final evaluation\n",
        "test_loss = evaluation(name=result_dir + name, test_loader=test_loader)\n",
        "f = open(result_dir + name + '_test_loss.txt', \"w\")\n",
        "f.write(str(test_loss))\n",
        "f.close()\n",
        "\n",
        "samples_real(result_dir + name, test_loader)\n",
        "samples_generated(result_dir + name, test_loader, extra_name='_FINAL')\n",
        "\n",
        "plot_curve(result_dir + name, nll_val)"
      ]
    },
    {
      "cell_type": "markdown",
      "metadata": {
        "id": "qaBwGtSJF8ag"
      },
      "source": [
        "### Results and discussion\n",
        "\n",
        "After a successful training of your model, we would like to ask you to present your data and analyze it. Please answer the following questions."
      ]
    },
    {
      "cell_type": "markdown",
      "metadata": {
        "id": "v4WZkoiHFyZm"
      },
      "source": [
        "\n",
        "#### Question 8 (1 pt)\n",
        "\n",
        "Please select the real data, and the final generated data and include them in this report. Please comment on the following:\n",
        "- (0.5 pt) Do you think the model was trained properly by looking at the generations? Please motivate your answer well.\n",
        "- (0.5 pt) What are potential problems with evaluating a generative model by looking at generated data? How can we evalute generative models (ELBO or NLL do not count as an answer)?"
      ]
    },
    {
      "cell_type": "markdown",
      "metadata": {
        "id": "Z8yQ2T9GIuvc"
      },
      "source": [
        "ANSWER: [Please fill in]"
      ]
    },
    {
      "cell_type": "markdown",
      "metadata": {
        "id": "lmyH318fIwc9"
      },
      "source": [
        "#### Question 9 (1.25 pt)\n",
        "\n",
        "Please include the plot of the negative ELBO. Please comment on the following:\n",
        "- (0.25 pt) Is the training of your VAE stable or unstable? Why?\n",
        "- (1 pt) What is the influence of the optimizer on your model? Do the hyperparameter values of the optimizer important and how do they influence the training? Motivate well your answer (e.g., run the script with more than one learning rate and present two plots here)."
      ]
    },
    {
      "cell_type": "markdown",
      "metadata": {
        "id": "-10GAVZtKTj2"
      },
      "source": [
        "ANSWER: [Please fill in]"
      ]
    },
    {
      "cell_type": "markdown",
      "metadata": {
        "id": "l7QhyAMms8-L"
      },
      "source": [
        "# Grading (10pt)"
      ]
    },
    {
      "cell_type": "markdown",
      "metadata": {
        "id": "juIdxXhos-mV"
      },
      "source": [
        "- Question 0: 3pt\n",
        "- Question 1: 0.5pt\n",
        "- Question 2: 0.25pt\n",
        "- Question 3: 0.5pt\n",
        "- Question 4: 0.5pt\n",
        "- Question 5: 2pt\n",
        "- Question 6: 0.5pt\n",
        "- Question 7: 0.5pt\n",
        "- Question 8: 1pt\n",
        "- Question 9: 1.25pt"
      ]
    }
  ],
  "metadata": {
    "accelerator": "GPU",
    "colab": {
      "provenance": []
    },
    "kernelspec": {
      "display_name": "Python 3 (ipykernel)",
      "language": "python",
      "name": "python3"
    }
  },
  "nbformat": 4,
  "nbformat_minor": 0
}